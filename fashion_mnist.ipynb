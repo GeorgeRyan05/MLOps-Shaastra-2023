{
 "cells": [
  {
   "cell_type": "code",
   "execution_count": 1,
   "metadata": {},
   "outputs": [],
   "source": [
    "import numpy as np\n",
    "import torch\n",
    "from torchvision import datasets, transforms\n",
    "from torch.utils.data import Dataset, DataLoader\n",
    "from torch import nn\n",
    "\n",
    "import mlflow"
   ]
  },
  {
   "cell_type": "code",
   "execution_count": 3,
   "metadata": {},
   "outputs": [],
   "source": [
    "transform = transforms.Compose([\n",
    "    transforms.Resize((28, 28)),\n",
    "    transforms.Grayscale(),\n",
    "    transforms.ToTensor(),\n",
    "    transforms.Normalize((0,), (1,))\n",
    "])"
   ]
  },
  {
   "cell_type": "code",
   "execution_count": 4,
   "metadata": {},
   "outputs": [],
   "source": [
    "mini_batch_size = 256\n",
    "class_names = [\n",
    "    \"T-shirt/top\", \"Trouser\", \"Pullover\", \"Dress\", \"Coat\",\n",
    "    \"Sandal\",\n",
    "    \"Shirt\",\n",
    "    \"Sneaker\",\n",
    "    \"Bag\",\n",
    "    \"Ankle boot\",\n",
    "]"
   ]
  },
  {
   "cell_type": "code",
   "execution_count": 5,
   "metadata": {},
   "outputs": [],
   "source": [
    "train_set = datasets.FashionMNIST('.', train=True, download=True, transform=transform)\n",
    "test_set = datasets.FashionMNIST('.', train=False, download=True, transform=transform)"
   ]
  },
  {
   "cell_type": "code",
   "execution_count": 6,
   "metadata": {},
   "outputs": [],
   "source": [
    "train_load = DataLoader(train_set, batch_size=mini_batch_size, shuffle=True)\n",
    "test_load = DataLoader(test_set, batch_size=mini_batch_size, shuffle=True)"
   ]
  },
  {
   "cell_type": "code",
   "execution_count": 7,
   "metadata": {},
   "outputs": [],
   "source": [
    "class CNN(nn.Module):\n",
    "    def __init__(self):\n",
    "        super().__init__()\n",
    "        self.convolutions = nn.Sequential(\n",
    "            nn.Conv2d(in_channels=1, out_channels=32, kernel_size=3, stride=1, padding=1),\n",
    "            nn.ReLU(),\n",
    "            nn.MaxPool2d(2),\n",
    "            nn.Conv2d(in_channels=32, out_channels=64, kernel_size=3, stride=1, padding=1),\n",
    "            nn.ReLU(),\n",
    "            nn.MaxPool2d(2)\n",
    "        )\n",
    "        self.fully_connected = nn.Sequential(\n",
    "            nn.Flatten(),\n",
    "            nn.Linear((28*28*64)//16, 600),\n",
    "            nn.Linear(600, 128),\n",
    "            nn.Linear(128, 10)\n",
    "        )\n",
    "    def forward(self, inputs):\n",
    "        x = self.convolutions(inputs)\n",
    "        x = self.fully_connected(x)\n",
    "        return x\n",
    "    @torch.inference_mode\n",
    "    def predict(self, images):\n",
    "        x = self(images)\n",
    "        return x.max(1)[1]\n"
   ]
  },
  {
   "cell_type": "code",
   "execution_count": 8,
   "metadata": {},
   "outputs": [],
   "source": [
    "def train(model, train_load, optimizer=torch.optim.Adam, loss=nn.CrossEntropyLoss()):\n",
    "    train_iter = iter(train_load)\n",
    "    optimizer = optimizer(model.parameters(), lr=1e-3)\n",
    "    for data, targets, in train_iter:\n",
    "        model.train()\n",
    "        outputs = model(data)\n",
    "        optimizer.zero_grad()\n",
    "        loss_val = loss(outputs, targets)\n",
    "        loss_val.backward()\n",
    "        optimizer.step()\n",
    "def accuracy(model, test_load):\n",
    "    model.eval()\n",
    "    test_iter = iter(test_load)\n",
    "    correct = 0\n",
    "    count = 0\n",
    "    for data, targets in iter(test_iter):\n",
    "        outputs = model(data)\n",
    "        predicted = outputs.max(1)[1]\n",
    "        correct = correct + (predicted == targets).sum().item()\n",
    "        count = count + len(targets)\n",
    "    return correct/count"
   ]
  },
  {
   "cell_type": "code",
   "execution_count": 9,
   "metadata": {},
   "outputs": [],
   "source": [
    "model = CNN()\n",
    "train(model, train_load)"
   ]
  },
  {
   "cell_type": "code",
   "execution_count": 10,
   "metadata": {},
   "outputs": [
    {
     "name": "stdout",
     "output_type": "stream",
     "text": [
      "0.8696\n"
     ]
    }
   ],
   "source": [
    "print(accuracy(model, test_load))"
   ]
  },
  {
   "cell_type": "code",
   "execution_count": null,
   "metadata": {},
   "outputs": [],
   "source": []
  },
  {
   "cell_type": "code",
   "execution_count": null,
   "metadata": {},
   "outputs": [],
   "source": []
  }
 ],
 "metadata": {
  "kernelspec": {
   "display_name": ".venv",
   "language": "python",
   "name": "python3"
  },
  "language_info": {
   "codemirror_mode": {
    "name": "ipython",
    "version": 3
   },
   "file_extension": ".py",
   "mimetype": "text/x-python",
   "name": "python",
   "nbconvert_exporter": "python",
   "pygments_lexer": "ipython3",
   "version": "3.10.7"
  }
 },
 "nbformat": 4,
 "nbformat_minor": 2
}
